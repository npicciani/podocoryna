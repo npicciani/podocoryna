{
 "cells": [
  {
   "cell_type": "code",
   "execution_count": 1,
   "id": "f6cea34e",
   "metadata": {},
   "outputs": [
    {
     "name": "stderr",
     "output_type": "stream",
     "text": [
      "/gpfs/ysm/project/dunn/nnp9/conda_envs/py37/lib/python3.7/site-packages/ipykernel_launcher.py:10: DeprecationWarning: This package has been superseded by the `leidenalg` package and will no longer be maintained. Please upgrade to the `leidenalg` package.\n",
      "  # Remove the CWD from sys.path while we load stuff.\n"
     ]
    }
   ],
   "source": [
    "import scprep\n",
    "import pandas as pd\n",
    "import numpy as np\n",
    "import scprep\n",
    "import matplotlib.pyplot as plt\n",
    "import umap\n",
    "import tasklogger\n",
    "import phenograph\n",
    "import graphtools as gt\n",
    "import louvain\n",
    "import phate\n",
    "import sklearn.manifold"
   ]
  },
  {
   "cell_type": "code",
   "execution_count": 5,
   "id": "b32f2a6f",
   "metadata": {},
   "outputs": [
    {
     "data": {
      "text/plain": [
       "(3259, 41678)"
      ]
     },
     "execution_count": 5,
     "metadata": {},
     "output_type": "execute_result"
    }
   ],
   "source": [
    "data = scprep.io.load_10X(\"/home/nnp9/project/podocoryna/results/cellranger/counts/podocoryna_carnea/outs/filtered_feature_bc_matrix\")\n",
    "# data.head()\n",
    "data.shape #3,259 cells and 41,678 genes"
   ]
  },
  {
   "cell_type": "code",
   "execution_count": null,
   "id": "7ed75222",
   "metadata": {},
   "outputs": [],
   "source": [
    "metadata = pd.DataFrame(index = data.index)\n",
    "scprep.plot.plot_library_size(data,\n",
    "                              log=False, title='Library Size of Filtered Cells')"
   ]
  },
  {
   "cell_type": "code",
   "execution_count": null,
   "id": "f6070bd9",
   "metadata": {},
   "outputs": [],
   "source": [
    "# Plot all mitochondrial genes. There is only 1, FYI.\n",
    "scprep.plot.plot_gene_set_expression(data, exact_word=\"TRINITY_DN33980_c0_g1\",\n",
    "                                     library_size_normalize=True,\n",
    "                                     title=\"Mitochondrial expression before filtering\",\n",
    "                                     cutoff=125)"
   ]
  },
  {
   "cell_type": "code",
   "execution_count": null,
   "id": "17c3f515",
   "metadata": {},
   "outputs": [],
   "source": [
    "# ================\n",
    "# Fill in your chosen cutoff value\n",
    "cutoff = 125\n",
    "# ================\n",
    "data_filt, metadata = scprep.filter.filter_gene_set_expression(\n",
    "    data, metadata, exact_word=\"TRINITY_DN33980_c0_g1\",\n",
    "    cutoff=cutoff, keep_cells='below', library_size_normalize=True)\n",
    "data_filt.shape # Removes 187 cells"
   ]
  },
  {
   "cell_type": "code",
   "execution_count": null,
   "id": "fd1c4d1a",
   "metadata": {},
   "outputs": [],
   "source": [
    "# Plot all mitochondrial genes. There are 14, FYI.\n",
    "scprep.plot.plot_gene_set_expression(data_filt, exact_word=\"TRINITY_DN33980_c0_g1\",\n",
    "                                     library_size_normalize=True,\n",
    "                                     title=\"Mitochondrial expression after filtering\")"
   ]
  },
  {
   "cell_type": "code",
   "execution_count": null,
   "id": "6a5c0f61",
   "metadata": {},
   "outputs": [],
   "source": [
    "scprep.plot.histogram(scprep.measure.gene_capture_count(data_filt), log=True,\n",
    "                      title=\"Gene capture before filtering\",\n",
    "                     xlabel='# of cells with nonzero expression',\n",
    "                     ylabel='# of genes')"
   ]
  },
  {
   "cell_type": "code",
   "execution_count": null,
   "id": "001b9f4d",
   "metadata": {},
   "outputs": [],
   "source": [
    "# ================\n",
    "# choose a cutoff\n",
    "cutoff = 20\n",
    "data_filt = scprep.filter.filter_rare_genes(data_filt, min_cells=cutoff)\n",
    "# ================"
   ]
  },
  {
   "cell_type": "code",
   "execution_count": null,
   "id": "c50d8d93",
   "metadata": {},
   "outputs": [],
   "source": [
    "scprep.plot.histogram(scprep.measure.gene_capture_count(data_filt), cutoff=20, log=True,\n",
    "                      title=\"Gene capture after filtering\",\n",
    "                     xlabel='# of cells with nonzero expression',\n",
    "                     ylabel='# of genes')"
   ]
  },
  {
   "cell_type": "code",
   "execution_count": null,
   "id": "76722e7d",
   "metadata": {},
   "outputs": [],
   "source": [
    "data_filt.shape\n",
    "scprep.plot.plot_library_size(data_filt, title='Library size before normalization')"
   ]
  },
  {
   "cell_type": "code",
   "execution_count": null,
   "id": "e8c2d7a8",
   "metadata": {},
   "outputs": [],
   "source": [
    "data_norm, library_size = scprep.normalize.library_size_normalize(data_filt, return_library_size=True)"
   ]
  },
  {
   "cell_type": "code",
   "execution_count": null,
   "id": "29dbe897",
   "metadata": {},
   "outputs": [],
   "source": [
    "scprep.plot.plot_library_size(data_norm, title='Library size after normalization')\n",
    "data_filt, metadata['library_size'] = scprep.normalize.library_size_normalize(data_filt, return_library_size=True)"
   ]
  },
  {
   "cell_type": "code",
   "execution_count": null,
   "id": "2ba0aaea",
   "metadata": {},
   "outputs": [],
   "source": [
    "scprep.plot.histogram(data_norm.mean(axis=0), log='y',\n",
    "                      title=\"Gene counts before transformation\",\n",
    "                     xlabel='total # of gene counts',\n",
    "                     ylabel='# of genes')"
   ]
  },
  {
   "cell_type": "code",
   "execution_count": null,
   "id": "517fd777",
   "metadata": {},
   "outputs": [],
   "source": [
    "data_sqrt = scprep.transform.sqrt(data_norm)\n",
    "scprep.plot.histogram(data_sqrt.mean(axis=0), log='y',\n",
    "                      title=\"Gene counts after transformation\",\n",
    "                     xlabel='total # of gene counts',\n",
    "                     ylabel='# of genes')"
   ]
  },
  {
   "cell_type": "code",
   "execution_count": null,
   "id": "1a0862cb",
   "metadata": {},
   "outputs": [],
   "source": [
    "data.to_pickle(\"data.pickle.gz\")\n",
    "metadata.to_pickle(\"metadata.pickle.gz\")\n",
    "scprep.plot.plot_gene_variability(data_sqrt, percentile=90)"
   ]
  },
  {
   "cell_type": "code",
   "execution_count": null,
   "id": "2e3f4c26",
   "metadata": {},
   "outputs": [],
   "source": [
    "data_hvg = scprep.select.highly_variable_genes(data_sqrt, percentile=90)\n",
    "data_hvg.shape"
   ]
  },
  {
   "cell_type": "code",
   "execution_count": null,
   "id": "f4f6ca4b",
   "metadata": {},
   "outputs": [],
   "source": [
    "# dimensionality reduction for visualization\n",
    "data_phate = phate.PHATE(verbose=False).fit_transform(data_hvg)"
   ]
  },
  {
   "cell_type": "code",
   "execution_count": null,
   "id": "bc6c7dc7",
   "metadata": {},
   "outputs": [],
   "source": [
    "scprep.plot.scatter2d(data_phate, title='Podocoryna Whole Body Jellyfish Cells',\n",
    "                      ticks=False, label_prefix='PHATE', figsize=(8, 8))"
   ]
  },
  {
   "cell_type": "code",
   "execution_count": null,
   "id": "3a4e4a1a",
   "metadata": {},
   "outputs": [],
   "source": [
    "data_pca = scprep.reduce.pca(data_hvg, n_components=100, method='dense')\n",
    "scprep.plot.scatter2d(data_pca, figsize=(8,8),\n",
    "                      ticks=False, label_prefix='PC', legend_anchor=(1,1))"
   ]
  },
  {
   "cell_type": "code",
   "execution_count": null,
   "id": "060fcbf1",
   "metadata": {},
   "outputs": [],
   "source": [
    "tsne_op = sklearn.manifold.TSNE()\n",
    "data_tsne = tsne_op.fit_transform(data_pca)\n",
    "scprep.plot.scatter2d(data_tsne,\n",
    "                      figsize=(8,8), legend_anchor=(1,1),\n",
    "                      ticks=False, label_prefix='t-SNE')"
   ]
  },
  {
   "cell_type": "code",
   "execution_count": null,
   "id": "3926fb90",
   "metadata": {},
   "outputs": [],
   "source": [
    "umap_op = umap.UMAP()\n",
    "data_umap = umap_op.fit_transform(data_pca)\n",
    "scprep.plot.scatter2d(data_umap,\n",
    "                      figsize=(8,8), legend_anchor=(1,1), ticks=False, label_prefix='UMAP')"
   ]
  },
  {
   "cell_type": "code",
   "execution_count": null,
   "id": "33285b31",
   "metadata": {},
   "outputs": [],
   "source": [
    "phenograph_clusters, _, _ = phenograph.cluster(data_pca)\n",
    "with tasklogger.log_task(\"KMeans\"):\n",
    "    kmeans_clusters = sklearn.cluster.KMeans(n_clusters=12).fit_predict(data_pca)\n",
    "\n",
    "G = gt.Graph(data_pca)\n",
    "G_igraph = G.to_igraph()"
   ]
  }
 ],
 "metadata": {
  "kernelspec": {
   "display_name": "py37",
   "language": "python",
   "name": "python3"
  },
  "language_info": {
   "codemirror_mode": {
    "name": "ipython",
    "version": 3
   },
   "file_extension": ".py",
   "mimetype": "text/x-python",
   "name": "python",
   "nbconvert_exporter": "python",
   "pygments_lexer": "ipython3",
   "version": "3.7.12"
  }
 },
 "nbformat": 4,
 "nbformat_minor": 5
}

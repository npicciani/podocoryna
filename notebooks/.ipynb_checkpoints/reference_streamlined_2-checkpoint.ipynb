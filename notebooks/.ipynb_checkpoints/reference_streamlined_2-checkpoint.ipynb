{
 "cells": [
  {
   "cell_type": "code",
   "execution_count": 1,
   "id": "8053f7e8",
   "metadata": {},
   "outputs": [],
   "source": [
    "import re\n",
    "import pandas as pd\n",
    "from collections import defaultdict"
   ]
  },
  {
   "cell_type": "code",
   "execution_count": 2,
   "id": "e10138d2",
   "metadata": {},
   "outputs": [],
   "source": [
    "trinotateResults = pd.read_table(\"/home/nnp9/project/podocoryna/results/trinotate/trinotate_annotation_report.xls\", index_col=0)"
   ]
  },
  {
   "cell_type": "code",
   "execution_count": 3,
   "id": "a940c9f0",
   "metadata": {},
   "outputs": [
    {
     "data": {
      "text/plain": [
       "(31864, 16)"
      ]
     },
     "execution_count": 3,
     "metadata": {},
     "output_type": "execute_result"
    }
   ],
   "source": [
    "annGenes = trinotateResults.loc[(trinotateResults[\"sprot_Top_BLASTX_hit\"] != \".\") | (trinotateResults[\"sprot_Top_BLASTP_hit\"] != \".\") | (trinotateResults[\"Pfam\"] != \".\")]\n",
    "annGenes.shape #31,864 rows with annotation"
   ]
  },
  {
   "cell_type": "code",
   "execution_count": 4,
   "id": "091d9ebd",
   "metadata": {},
   "outputs": [],
   "source": [
    "annTranscripts = set(annGenes[\"transcript_id\"].tolist()) #non-duplicate transcript ids of annotated sequences"
   ]
  },
  {
   "cell_type": "code",
   "execution_count": null,
   "id": "606c3574",
   "metadata": {},
   "outputs": [],
   "source": [
    "outfilePath = \"/home/nnp9/project/podocoryna/results/trinotate/transcripts_with_annotation_nodupes.txt\"\n",
    "with open (outfilePath, \"w\") as outfile:\n",
    "    for item in annTranscripts:\n",
    "        outfile.write(item + \"\\n\")"
   ]
  },
  {
   "cell_type": "code",
   "execution_count": null,
   "id": "66d5f9a3",
   "metadata": {},
   "outputs": [],
   "source": [
    "# List the transcripts ids that blast on the reverse strand\n",
    "searchStr = \".+^.+^(.+)^.+^.+^.+ˆ\"\n",
    "\n",
    "negGenes = []\n",
    "for value in annGenes[\"sprot_Top_BLASTX_hit\"].values:\n",
    "    p=re.match(searchStr, value)\n",
    "    querycoords = p.group(1)\n",
    "    if re.match(searchStr,value):\n",
    "        transcriptID = annGenes.loc[annGenes[\"prot_coords\"] == value, 'transcript_id'].tolist()\n",
    "        negGenes.append(transcriptID)"
   ]
  },
  {
   "cell_type": "code",
   "execution_count": null,
   "id": "a1e14b2a",
   "metadata": {},
   "outputs": [],
   "source": [
    "# Create a dictionary with key, values (transcript id: [prot coords]) that keeps multiple values for each key\n",
    "multivalue_dict = defaultdict(list)\n",
    "\n",
    "for idx,row in annGenes.iterrows():\n",
    "    multivalue_dict[row['transcript_id']].append(row['prot_coords'])"
   ]
  }
 ],
 "metadata": {
  "kernelspec": {
   "display_name": "py37",
   "language": "python",
   "name": "python3"
  },
  "language_info": {
   "codemirror_mode": {
    "name": "ipython",
    "version": 3
   },
   "file_extension": ".py",
   "mimetype": "text/x-python",
   "name": "python",
   "nbconvert_exporter": "python",
   "pygments_lexer": "ipython3",
   "version": "3.7.12"
  }
 },
 "nbformat": 4,
 "nbformat_minor": 5
}

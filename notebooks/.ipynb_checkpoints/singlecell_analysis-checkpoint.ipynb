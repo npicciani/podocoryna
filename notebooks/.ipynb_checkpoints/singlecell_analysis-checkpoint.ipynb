{
 "cells": [
  {
   "cell_type": "code",
   "execution_count": 1,
   "id": "6bdbe0c8",
   "metadata": {},
   "outputs": [
    {
     "name": "stdout",
     "output_type": "stream",
     "text": [
      "Collecting phate\n",
      "  Downloading phate-1.0.7-py3-none-any.whl (23 kB)\n",
      "Collecting scprep\n",
      "  Downloading scprep-1.1.0-py3-none-any.whl (104 kB)\n",
      "     |████████████████████████████████| 104 kB 14.7 MB/s            \n",
      "\u001b[?25hCollecting umap-learn\n",
      "  Downloading umap-learn-0.5.2.tar.gz (86 kB)\n",
      "     |████████████████████████████████| 86 kB 11.5 MB/s             \n",
      "\u001b[?25h  Preparing metadata (setup.py) ... \u001b[?25ldone\n",
      "\u001b[?25hCollecting tasklogger\n",
      "  Downloading tasklogger-1.1.0-py3-none-any.whl (15 kB)\n",
      "Collecting magic-impute\n",
      "  Downloading magic_impute-3.0.0-py3-none-any.whl (15 kB)\n",
      "Collecting louvain\n",
      "  Downloading louvain-0.7.0.tar.gz (4.0 MB)\n",
      "     |████████████████████████████████| 4.0 MB 60.9 MB/s            \n",
      "\u001b[?25h  Preparing metadata (setup.py) ... \u001b[?25lerror\n",
      "\u001b[31m  ERROR: Command errored out with exit status 1:\n",
      "   command: /gpfs/ysm/project/dunn/nnp9/conda_envs/jupyter/bin/python3.1 -c 'import io, os, sys, setuptools, tokenize; sys.argv[0] = '\"'\"'/tmp/pip-install-j6sducpn/louvain_a67f6f51e48f4199865d92ef5255e30a/setup.py'\"'\"'; __file__='\"'\"'/tmp/pip-install-j6sducpn/louvain_a67f6f51e48f4199865d92ef5255e30a/setup.py'\"'\"';f = getattr(tokenize, '\"'\"'open'\"'\"', open)(__file__) if os.path.exists(__file__) else io.StringIO('\"'\"'from setuptools import setup; setup()'\"'\"');code = f.read().replace('\"'\"'\\r\\n'\"'\"', '\"'\"'\\n'\"'\"');f.close();exec(compile(code, __file__, '\"'\"'exec'\"'\"'))' egg_info --egg-base /tmp/pip-pip-egg-info-fgh_xbq1\n",
      "       cwd: /tmp/pip-install-j6sducpn/louvain_a67f6f51e48f4199865d92ef5255e30a/\n",
      "  Complete output (3 lines):\n",
      "  /gpfs/ysm/project/dunn/nnp9/conda_envs/jupyter/lib/python3.10/site-packages/setuptools/installer.py:27: SetuptoolsDeprecationWarning: setuptools.installer is deprecated. Requirements should be satisfied by a PEP 517 installer.\n",
      "    warnings.warn(\n",
      "  error in louvain setup command: use_2to3 is invalid.\n",
      "  ----------------------------------------\u001b[0m\n",
      "\u001b[33mWARNING: Discarding https://files.pythonhosted.org/packages/00/5b/afac6f4d2cce7bb9e1e7ae3ab6ab193c93748440c39f38efa3be297f4e97/louvain-0.7.0.tar.gz#sha256=9734fc6bf8c15546d685a8c6d7d7ca0574cad4cb641e9ca91c3334028658f7c6 (from https://pypi.org/simple/louvain/). Command errored out with exit status 1: python setup.py egg_info Check the logs for full command output.\u001b[0m\n",
      "\u001b[?25h  Downloading louvain-0.6.1.tar.gz (84 kB)\n",
      "     |████████████████████████████████| 84 kB 6.7 MB/s              \n",
      "\u001b[?25h  Preparing metadata (setup.py) ... \u001b[?25lerror\n",
      "\u001b[31m  ERROR: Command errored out with exit status 1:\n",
      "   command: /gpfs/ysm/project/dunn/nnp9/conda_envs/jupyter/bin/python3.1 -c 'import io, os, sys, setuptools, tokenize; sys.argv[0] = '\"'\"'/tmp/pip-install-j6sducpn/louvain_935c9d571a4f4cb08495321f637611bd/setup.py'\"'\"'; __file__='\"'\"'/tmp/pip-install-j6sducpn/louvain_935c9d571a4f4cb08495321f637611bd/setup.py'\"'\"';f = getattr(tokenize, '\"'\"'open'\"'\"', open)(__file__) if os.path.exists(__file__) else io.StringIO('\"'\"'from setuptools import setup; setup()'\"'\"');code = f.read().replace('\"'\"'\\r\\n'\"'\"', '\"'\"'\\n'\"'\"');f.close();exec(compile(code, __file__, '\"'\"'exec'\"'\"'))' egg_info --egg-base /tmp/pip-pip-egg-info-niolntlu\n",
      "       cwd: /tmp/pip-install-j6sducpn/louvain_935c9d571a4f4cb08495321f637611bd/\n",
      "  Complete output (1 lines):\n",
      "  error in louvain setup command: use_2to3 is invalid.\n",
      "  ----------------------------------------\u001b[0m\n",
      "\u001b[33mWARNING: Discarding https://files.pythonhosted.org/packages/51/bc/8cc9bb51a7fd9d13f37f2d904ee269971bccb1ab0eb06447a539af67f94c/louvain-0.6.1.tar.gz#sha256=ffd83318e44e62e24d3cb7f159c0ff13382edafb956a8169cedd2c79b66b6968 (from https://pypi.org/simple/louvain/). Command errored out with exit status 1: python setup.py egg_info Check the logs for full command output.\u001b[0m\n",
      "\u001b[?25h  Downloading louvain-0.6.0.tar.gz (90 kB)\n",
      "     |████████████████████████████████| 90 kB 17.0 MB/s             \n",
      "\u001b[?25h  Preparing metadata (setup.py) ... \u001b[?25lerror\n",
      "\u001b[31m  ERROR: Command errored out with exit status 1:\n",
      "   command: /gpfs/ysm/project/dunn/nnp9/conda_envs/jupyter/bin/python3.1 -c 'import io, os, sys, setuptools, tokenize; sys.argv[0] = '\"'\"'/tmp/pip-install-j6sducpn/louvain_a1b6e20f26554bfcb77a055be22d7562/setup.py'\"'\"'; __file__='\"'\"'/tmp/pip-install-j6sducpn/louvain_a1b6e20f26554bfcb77a055be22d7562/setup.py'\"'\"';f = getattr(tokenize, '\"'\"'open'\"'\"', open)(__file__) if os.path.exists(__file__) else io.StringIO('\"'\"'from setuptools import setup; setup()'\"'\"');code = f.read().replace('\"'\"'\\r\\n'\"'\"', '\"'\"'\\n'\"'\"');f.close();exec(compile(code, __file__, '\"'\"'exec'\"'\"'))' egg_info --egg-base /tmp/pip-pip-egg-info-wkp1t0dp\n",
      "       cwd: /tmp/pip-install-j6sducpn/louvain_a1b6e20f26554bfcb77a055be22d7562/\n",
      "  Complete output (1 lines):\n",
      "  error in louvain setup command: use_2to3 is invalid.\n",
      "  ----------------------------------------\u001b[0m\n",
      "\u001b[33mWARNING: Discarding https://files.pythonhosted.org/packages/2f/e3/2517ddd2701403ee755cc6f7953afe79d4874bddc062e09dfb8adf6f3c98/louvain-0.6.0.tar.gz#sha256=0dd113b55a12c4edfcac857c3da3a02dd05d4e23e2fbfef61d0ccd46382778b5 (from https://pypi.org/simple/louvain/). Command errored out with exit status 1: python setup.py egg_info Check the logs for full command output.\u001b[0m\n",
      "\u001b[?25h  Downloading louvain-0.5.3.tar.gz (48 kB)\n",
      "     |████████████████████████████████| 48 kB 8.2 MB/s             \n",
      "\u001b[?25h  Preparing metadata (setup.py) ... \u001b[?25lerror\n",
      "\u001b[31m  ERROR: Command errored out with exit status 1:\n",
      "   command: /gpfs/ysm/project/dunn/nnp9/conda_envs/jupyter/bin/python3.1 -c 'import io, os, sys, setuptools, tokenize; sys.argv[0] = '\"'\"'/tmp/pip-install-j6sducpn/louvain_645535cf95e843dd8e32b53267abc88f/setup.py'\"'\"'; __file__='\"'\"'/tmp/pip-install-j6sducpn/louvain_645535cf95e843dd8e32b53267abc88f/setup.py'\"'\"';f = getattr(tokenize, '\"'\"'open'\"'\"', open)(__file__) if os.path.exists(__file__) else io.StringIO('\"'\"'from setuptools import setup; setup()'\"'\"');code = f.read().replace('\"'\"'\\r\\n'\"'\"', '\"'\"'\\n'\"'\"');f.close();exec(compile(code, __file__, '\"'\"'exec'\"'\"'))' egg_info --egg-base /tmp/pip-pip-egg-info-r4wmv4me\n",
      "       cwd: /tmp/pip-install-j6sducpn/louvain_645535cf95e843dd8e32b53267abc88f/\n",
      "  Complete output (1 lines):\n",
      "  error in louvain setup command: use_2to3 is invalid.\n",
      "  ----------------------------------------\u001b[0m\n",
      "\u001b[33mWARNING: Discarding https://files.pythonhosted.org/packages/61/0f/ec441b9d8ccd951dbd1ec0330cafffade67f4ebef6847ff7e5b4d004c4c9/louvain-0.5.3.tar.gz#sha256=640a6728066df822f1228cfb028e9648c4d516bbdb07a92d3159a810fb975f95 (from https://pypi.org/simple/louvain/). Command errored out with exit status 1: python setup.py egg_info Check the logs for full command output.\u001b[0m\n",
      "\u001b[?25h  Downloading louvain-0.5.2.tar.gz (45 kB)\n",
      "     |████████████████████████████████| 45 kB 6.4 MB/s             \n",
      "\u001b[?25h  Preparing metadata (setup.py) ... \u001b[?25lerror\n",
      "\u001b[31m  ERROR: Command errored out with exit status 1:\n",
      "   command: /gpfs/ysm/project/dunn/nnp9/conda_envs/jupyter/bin/python3.1 -c 'import io, os, sys, setuptools, tokenize; sys.argv[0] = '\"'\"'/tmp/pip-install-j6sducpn/louvain_90c21c56dcad49e4ae72c50a0eabde9b/setup.py'\"'\"'; __file__='\"'\"'/tmp/pip-install-j6sducpn/louvain_90c21c56dcad49e4ae72c50a0eabde9b/setup.py'\"'\"';f = getattr(tokenize, '\"'\"'open'\"'\"', open)(__file__) if os.path.exists(__file__) else io.StringIO('\"'\"'from setuptools import setup; setup()'\"'\"');code = f.read().replace('\"'\"'\\r\\n'\"'\"', '\"'\"'\\n'\"'\"');f.close();exec(compile(code, __file__, '\"'\"'exec'\"'\"'))' egg_info --egg-base /tmp/pip-pip-egg-info-dq0dcbn0\n",
      "       cwd: /tmp/pip-install-j6sducpn/louvain_90c21c56dcad49e4ae72c50a0eabde9b/\n",
      "  Complete output (1 lines):\n",
      "  error in louvain setup command: use_2to3 is invalid.\n",
      "  ----------------------------------------\u001b[0m\n",
      "\u001b[33mWARNING: Discarding https://files.pythonhosted.org/packages/34/99/f2a701c4fd24992a8747db50052018cc3bba5f5bd19890358e326d163d3a/louvain-0.5.2.tar.gz#sha256=472c0c4fe7dabebe7ceb0a434008a016d74e583449aab6878e90c8ef7e76a2e1 (from https://pypi.org/simple/louvain/). Command errored out with exit status 1: python setup.py egg_info Check the logs for full command output.\u001b[0m\n",
      "\u001b[?25h  Downloading louvain-0.5.1.tar.gz (44 kB)\n",
      "     |████████████████████████████████| 44 kB 4.2 MB/s             \n",
      "\u001b[?25h  Preparing metadata (setup.py) ... \u001b[?25lerror\n",
      "\u001b[31m  ERROR: Command errored out with exit status 1:\n",
      "   command: /gpfs/ysm/project/dunn/nnp9/conda_envs/jupyter/bin/python3.1 -c 'import io, os, sys, setuptools, tokenize; sys.argv[0] = '\"'\"'/tmp/pip-install-j6sducpn/louvain_fcf82514b471459f961c1c83c7e2f88a/setup.py'\"'\"'; __file__='\"'\"'/tmp/pip-install-j6sducpn/louvain_fcf82514b471459f961c1c83c7e2f88a/setup.py'\"'\"';f = getattr(tokenize, '\"'\"'open'\"'\"', open)(__file__) if os.path.exists(__file__) else io.StringIO('\"'\"'from setuptools import setup; setup()'\"'\"');code = f.read().replace('\"'\"'\\r\\n'\"'\"', '\"'\"'\\n'\"'\"');f.close();exec(compile(code, __file__, '\"'\"'exec'\"'\"'))' egg_info --egg-base /tmp/pip-pip-egg-info-ornxe5m4\n",
      "       cwd: /tmp/pip-install-j6sducpn/louvain_fcf82514b471459f961c1c83c7e2f88a/\n",
      "  Complete output (1 lines):\n",
      "  error in louvain setup command: use_2to3 is invalid.\n",
      "  ----------------------------------------\u001b[0m\n",
      "\u001b[33mWARNING: Discarding https://files.pythonhosted.org/packages/af/11/1b07649480bac60ab9d5557794f5ec94f8d10fe17af75b3f37a1844e932d/louvain-0.5.1.tar.gz#sha256=10d75c71a84de93874defec360014156d1d293a2c482f9e6dc9fdcac49c668c9 (from https://pypi.org/simple/louvain/). Command errored out with exit status 1: python setup.py egg_info Check the logs for full command output.\u001b[0m\n",
      "\u001b[31mERROR: Could not find a version that satisfies the requirement louvain (from versions: 0.5.1, 0.5.2, 0.5.3, 0.6.0, 0.6.1, 0.6.2a1, 0.6.2, 0.7.0)\u001b[0m\n",
      "\u001b[31mERROR: No matching distribution found for louvain\u001b[0m\n"
     ]
    },
    {
     "name": "stdout",
     "output_type": "stream",
     "text": [
      "\u001b[?25hCollecting git+https://github.com/jacoblevine/phenograph.git\n",
      "  Cloning https://github.com/jacoblevine/phenograph.git to /tmp/pip-req-build-30ti29zl\n",
      "  Running command git clone -q https://github.com/jacoblevine/phenograph.git /tmp/pip-req-build-30ti29zl\n",
      "  Resolved https://github.com/jacoblevine/phenograph.git to commit 49b5b046b1e2b408cc1e544b3a0a676714d02fac\n",
      "  Preparing metadata (setup.py) ... \u001b[?25ldone\n",
      "\u001b[?25hRequirement already satisfied: setuptools>=18.0.1 in /gpfs/ysm/project/dunn/nnp9/conda_envs/jupyter/lib/python3.10/site-packages (from PhenoGraph==1.5.2) (59.4.0)\n",
      "Collecting numpy>=1.9.2\n",
      "  Downloading numpy-1.21.4-cp310-cp310-manylinux_2_17_x86_64.manylinux2014_x86_64.whl (15.9 MB)\n",
      "     |████████████████████████████████| 15.9 MB 8.1 MB/s            \n",
      "\u001b[?25hCollecting scipy>=0.16.0\n",
      "  Downloading scipy-1.7.3-cp310-cp310-manylinux_2_17_x86_64.manylinux2014_x86_64.whl (39.9 MB)\n",
      "     |████████████████████████████████| 39.9 MB 32.2 MB/s            \n",
      "\u001b[?25hCollecting scikit_learn>=0.17\n",
      "  Downloading scikit-learn-1.0.1.tar.gz (6.6 MB)\n",
      "     |████████████████████████████████| 6.6 MB 88.0 MB/s            \n",
      "\u001b[?25h  Installing build dependencies ... \u001b[?25ldone\n",
      "\u001b[?25h  Getting requirements to build wheel ... \u001b[?25ldone\n",
      "\u001b[?25h  Preparing metadata (pyproject.toml) ... \u001b[?25ldone\n",
      "\u001b[?25hCollecting psutil>4\n",
      "  Downloading psutil-5.8.0.tar.gz (470 kB)\n",
      "     |████████████████████████████████| 470 kB 92.3 MB/s            \n",
      "\u001b[?25h  Preparing metadata (setup.py) ... \u001b[?25ldone\n",
      "\u001b[?25hCollecting joblib>=0.11\n",
      "  Downloading joblib-1.1.0-py2.py3-none-any.whl (306 kB)\n",
      "     |████████████████████████████████| 306 kB 107.1 MB/s            \n",
      "\u001b[?25hCollecting threadpoolctl>=2.0.0\n",
      "  Downloading threadpoolctl-3.0.0-py3-none-any.whl (14 kB)\n",
      "Building wheels for collected packages: PhenoGraph, psutil, scikit-learn\n",
      "  Building wheel for PhenoGraph (setup.py) ... \u001b[?25ldone\n",
      "\u001b[?25h  Created wheel for PhenoGraph: filename=PhenoGraph-1.5.2-py3-none-any.whl size=149628 sha256=292545d7b2a19b3614a49d0f535a700cca5bd679babd1b7935becce191af586d\n",
      "  Stored in directory: /tmp/pip-ephem-wheel-cache-o3m4r5v8/wheels/8a/1f/da/2980df1e0520635ad462966c686c33cbb4076129d849b7aa61\n",
      "  Building wheel for psutil (setup.py) ... \u001b[?25ldone\n",
      "\u001b[?25h  Created wheel for psutil: filename=psutil-5.8.0-cp310-cp310-linux_x86_64.whl size=273200 sha256=6dd397fcdd1ace79da57dc55d994947555769290d6e5eb167720e8bf4286c39f\n",
      "  Stored in directory: /gpfs/ysm/home/nnp9/.cache/pip/wheels/12/a3/6d/615295409067d58a62a069d30d296d61d3ac132605e3a9555c\n",
      "  Building wheel for scikit-learn (pyproject.toml) ... \u001b[?25ldone\n",
      "\u001b[?25h  Created wheel for scikit-learn: filename=scikit_learn-1.0.1-cp310-cp310-linux_x86_64.whl size=19014226 sha256=8479d410c21689c8b914392aa18f9f73253d3bba6a7c724f2e4a2c133be32e28\n",
      "  Stored in directory: /gpfs/ysm/home/nnp9/.cache/pip/wheels/b9/52/71/bb62d82a2b50c3c07fc7595c9cecbc696734d889da56cf0de6\n",
      "Successfully built PhenoGraph psutil scikit-learn\n",
      "Installing collected packages: numpy, threadpoolctl, scipy, joblib, scikit-learn, psutil, PhenoGraph\n",
      "Successfully installed PhenoGraph-1.5.2 joblib-1.1.0 numpy-1.21.4 psutil-5.8.0 scikit-learn-1.0.1 scipy-1.7.3 threadpoolctl-3.0.0\n"
     ]
    }
   ],
   "source": [
    "!pip install phate scprep umap-learn tasklogger magic-impute louvain seaborn\n",
    "!pip install git+https://github.com/jacoblevine/phenograph.git"
   ]
  },
  {
   "cell_type": "code",
   "execution_count": 7,
   "id": "c5f65218",
   "metadata": {},
   "outputs": [
    {
     "ename": "ModuleNotFoundError",
     "evalue": "No module named 'umap'",
     "output_type": "error",
     "traceback": [
      "\u001b[0;31m---------------------------------------------------------------------------\u001b[0m",
      "\u001b[0;31mModuleNotFoundError\u001b[0m                       Traceback (most recent call last)",
      "\u001b[0;32m/tmp/ipykernel_27545/774436536.py\u001b[0m in \u001b[0;36m<module>\u001b[0;34m\u001b[0m\n\u001b[1;32m      4\u001b[0m \u001b[0;32mimport\u001b[0m \u001b[0mscprep\u001b[0m\u001b[0;34m\u001b[0m\u001b[0;34m\u001b[0m\u001b[0m\n\u001b[1;32m      5\u001b[0m \u001b[0;32mimport\u001b[0m \u001b[0mmatplotlib\u001b[0m\u001b[0;34m.\u001b[0m\u001b[0mpyplot\u001b[0m \u001b[0;32mas\u001b[0m \u001b[0mplt\u001b[0m\u001b[0;34m\u001b[0m\u001b[0;34m\u001b[0m\u001b[0m\n\u001b[0;32m----> 6\u001b[0;31m \u001b[0;32mimport\u001b[0m \u001b[0mumap\u001b[0m\u001b[0;34m\u001b[0m\u001b[0;34m\u001b[0m\u001b[0m\n\u001b[0m\u001b[1;32m      7\u001b[0m \u001b[0;32mimport\u001b[0m \u001b[0mtasklogger\u001b[0m\u001b[0;34m\u001b[0m\u001b[0;34m\u001b[0m\u001b[0m\n\u001b[1;32m      8\u001b[0m \u001b[0;32mimport\u001b[0m \u001b[0mphenograph\u001b[0m\u001b[0;34m\u001b[0m\u001b[0;34m\u001b[0m\u001b[0m\n",
      "\u001b[0;31mModuleNotFoundError\u001b[0m: No module named 'umap'"
     ]
    }
   ],
   "source": [
    "import scprep\n",
    "import pandas as pd\n",
    "import numpy as np\n",
    "import scprep\n",
    "import matplotlib.pyplot as plt\n",
    "import umap\n",
    "import tasklogger\n",
    "import phenograph\n",
    "import graphtools as gt\n",
    "import louvain"
   ]
  },
  {
   "cell_type": "code",
   "execution_count": null,
   "id": "9b91c8ff",
   "metadata": {},
   "outputs": [],
   "source": [
    "!pip install umap-learn"
   ]
  },
  {
   "cell_type": "code",
   "execution_count": 16,
   "id": "966a621e",
   "metadata": {},
   "outputs": [],
   "source": [
    "NUMBA_THREADING_LAYER='omp'"
   ]
  },
  {
   "cell_type": "code",
   "execution_count": null,
   "id": "5e430a31",
   "metadata": {},
   "outputs": [
    {
     "name": "stdout",
     "output_type": "stream",
     "text": [
      "Collecting package metadata (current_repodata.json): done\n",
      "Solving environment: failed with initial frozen solve. Retrying with flexible solve.\n",
      "Collecting package metadata (repodata.json): done\n",
      "Solving environment: failed with initial frozen solve. Retrying with flexible solve.\n",
      "\n",
      "PackagesNotFoundError: The following packages are not available from current channels:\n",
      "\n",
      "  - python=3.1\n",
      "\n",
      "Current channels:\n",
      "\n",
      "  - https://conda.anaconda.org/conda-forge/linux-64\n",
      "  - https://conda.anaconda.org/conda-forge/noarch\n",
      "  - https://conda.anaconda.org/bioconda/linux-64\n",
      "  - https://conda.anaconda.org/bioconda/noarch\n",
      "  - https://repo.anaconda.com/pkgs/main/linux-64\n",
      "  - https://repo.anaconda.com/pkgs/main/noarch\n",
      "  - https://repo.anaconda.com/pkgs/r/linux-64\n",
      "  - https://repo.anaconda.com/pkgs/r/noarch\n",
      "\n",
      "To search for alternate channels that may provide the conda package you're\n",
      "looking for, navigate to\n",
      "\n",
      "    https://anaconda.org\n",
      "\n",
      "and use the search bar at the top of the page.\n",
      "\n",
      "\n"
     ]
    }
   ],
   "source": [
    "!conda install -c conda-forge umap-learn=0.5.2"
   ]
  },
  {
   "cell_type": "code",
   "execution_count": 19,
   "id": "566c6901",
   "metadata": {},
   "outputs": [
    {
     "ename": "ModuleNotFoundError",
     "evalue": "No module named 'umap'",
     "output_type": "error",
     "traceback": [
      "\u001b[0;31m---------------------------------------------------------------------------\u001b[0m",
      "\u001b[0;31mModuleNotFoundError\u001b[0m                       Traceback (most recent call last)",
      "\u001b[0;32m/tmp/ipykernel_27545/3659999909.py\u001b[0m in \u001b[0;36m<module>\u001b[0;34m\u001b[0m\n\u001b[0;32m----> 1\u001b[0;31m \u001b[0;32mimport\u001b[0m \u001b[0mumap\u001b[0m\u001b[0;34m\u001b[0m\u001b[0;34m\u001b[0m\u001b[0m\n\u001b[0m",
      "\u001b[0;31mModuleNotFoundError\u001b[0m: No module named 'umap'"
     ]
    }
   ],
   "source": [
    "import umap"
   ]
  },
  {
   "cell_type": "code",
   "execution_count": null,
   "id": "b920304c",
   "metadata": {},
   "outputs": [],
   "source": []
  }
 ],
 "metadata": {
  "kernelspec": {
   "display_name": "py37",
   "language": "python",
   "name": "python3"
  },
  "language_info": {
   "codemirror_mode": {
    "name": "ipython",
    "version": 3
   },
   "file_extension": ".py",
   "mimetype": "text/x-python",
   "name": "python",
   "nbconvert_exporter": "python",
   "pygments_lexer": "ipython3",
   "version": "3.10.0"
  }
 },
 "nbformat": 4,
 "nbformat_minor": 5
}
